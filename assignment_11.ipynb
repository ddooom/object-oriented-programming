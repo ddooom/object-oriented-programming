{
  "nbformat": 4,
  "nbformat_minor": 0,
  "metadata": {
    "colab": {
      "name": "assignment-11.ipynb",
      "provenance": [],
      "authorship_tag": "ABX9TyPfWXH6XirAOUN9hso5/nPL",
      "include_colab_link": true
    },
    "kernelspec": {
      "name": "python3",
      "display_name": "Python 3"
    },
    "accelerator": "GPU",
    "widgets": {
      "application/vnd.jupyter.widget-state+json": {
        "96605095a51a428095489c68645e2d1e": {
          "model_module": "@jupyter-widgets/controls",
          "model_name": "HBoxModel",
          "state": {
            "_view_name": "HBoxView",
            "_dom_classes": [],
            "_model_name": "HBoxModel",
            "_view_module": "@jupyter-widgets/controls",
            "_model_module_version": "1.5.0",
            "_view_count": null,
            "_view_module_version": "1.5.0",
            "box_style": "",
            "layout": "IPY_MODEL_aae9931dfed94156bd28b9dbef1dd2fe",
            "_model_module": "@jupyter-widgets/controls",
            "children": [
              "IPY_MODEL_fbf4e54b7b5d4f009b5cb3744e99611e",
              "IPY_MODEL_65b537fe0a7d4121bffb6a27060858f8"
            ]
          }
        },
        "aae9931dfed94156bd28b9dbef1dd2fe": {
          "model_module": "@jupyter-widgets/base",
          "model_name": "LayoutModel",
          "state": {
            "_view_name": "LayoutView",
            "grid_template_rows": null,
            "right": null,
            "justify_content": null,
            "_view_module": "@jupyter-widgets/base",
            "overflow": null,
            "_model_module_version": "1.2.0",
            "_view_count": null,
            "flex_flow": null,
            "width": null,
            "min_width": null,
            "border": null,
            "align_items": null,
            "bottom": null,
            "_model_module": "@jupyter-widgets/base",
            "top": null,
            "grid_column": null,
            "overflow_y": null,
            "overflow_x": null,
            "grid_auto_flow": null,
            "grid_area": null,
            "grid_template_columns": null,
            "flex": null,
            "_model_name": "LayoutModel",
            "justify_items": null,
            "grid_row": null,
            "max_height": null,
            "align_content": null,
            "visibility": null,
            "align_self": null,
            "height": null,
            "min_height": null,
            "padding": null,
            "grid_auto_rows": null,
            "grid_gap": null,
            "max_width": null,
            "order": null,
            "_view_module_version": "1.2.0",
            "grid_template_areas": null,
            "object_position": null,
            "object_fit": null,
            "grid_auto_columns": null,
            "margin": null,
            "display": null,
            "left": null
          }
        },
        "fbf4e54b7b5d4f009b5cb3744e99611e": {
          "model_module": "@jupyter-widgets/controls",
          "model_name": "FloatProgressModel",
          "state": {
            "_view_name": "ProgressView",
            "style": "IPY_MODEL_cf2b84cc518743ac88b1914cd3df2ab6",
            "_dom_classes": [],
            "description": "",
            "_model_name": "FloatProgressModel",
            "bar_style": "info",
            "max": 1,
            "_view_module": "@jupyter-widgets/controls",
            "_model_module_version": "1.5.0",
            "value": 1,
            "_view_count": null,
            "_view_module_version": "1.5.0",
            "orientation": "horizontal",
            "min": 0,
            "description_tooltip": null,
            "_model_module": "@jupyter-widgets/controls",
            "layout": "IPY_MODEL_ed97ac296aee4558b73da88c5f5afa16"
          }
        },
        "65b537fe0a7d4121bffb6a27060858f8": {
          "model_module": "@jupyter-widgets/controls",
          "model_name": "HTMLModel",
          "state": {
            "_view_name": "HTMLView",
            "style": "IPY_MODEL_2efa43471d384e04a49483dbc596ce1a",
            "_dom_classes": [],
            "description": "",
            "_model_name": "HTMLModel",
            "placeholder": "​",
            "_view_module": "@jupyter-widgets/controls",
            "_model_module_version": "1.5.0",
            "value": " 9920512/? [00:20&lt;00:00, 182845.57it/s]",
            "_view_count": null,
            "_view_module_version": "1.5.0",
            "description_tooltip": null,
            "_model_module": "@jupyter-widgets/controls",
            "layout": "IPY_MODEL_c6d6d6d164914366a7d8af05c981f55b"
          }
        },
        "cf2b84cc518743ac88b1914cd3df2ab6": {
          "model_module": "@jupyter-widgets/controls",
          "model_name": "ProgressStyleModel",
          "state": {
            "_view_name": "StyleView",
            "_model_name": "ProgressStyleModel",
            "description_width": "initial",
            "_view_module": "@jupyter-widgets/base",
            "_model_module_version": "1.5.0",
            "_view_count": null,
            "_view_module_version": "1.2.0",
            "bar_color": null,
            "_model_module": "@jupyter-widgets/controls"
          }
        },
        "ed97ac296aee4558b73da88c5f5afa16": {
          "model_module": "@jupyter-widgets/base",
          "model_name": "LayoutModel",
          "state": {
            "_view_name": "LayoutView",
            "grid_template_rows": null,
            "right": null,
            "justify_content": null,
            "_view_module": "@jupyter-widgets/base",
            "overflow": null,
            "_model_module_version": "1.2.0",
            "_view_count": null,
            "flex_flow": null,
            "width": null,
            "min_width": null,
            "border": null,
            "align_items": null,
            "bottom": null,
            "_model_module": "@jupyter-widgets/base",
            "top": null,
            "grid_column": null,
            "overflow_y": null,
            "overflow_x": null,
            "grid_auto_flow": null,
            "grid_area": null,
            "grid_template_columns": null,
            "flex": null,
            "_model_name": "LayoutModel",
            "justify_items": null,
            "grid_row": null,
            "max_height": null,
            "align_content": null,
            "visibility": null,
            "align_self": null,
            "height": null,
            "min_height": null,
            "padding": null,
            "grid_auto_rows": null,
            "grid_gap": null,
            "max_width": null,
            "order": null,
            "_view_module_version": "1.2.0",
            "grid_template_areas": null,
            "object_position": null,
            "object_fit": null,
            "grid_auto_columns": null,
            "margin": null,
            "display": null,
            "left": null
          }
        },
        "2efa43471d384e04a49483dbc596ce1a": {
          "model_module": "@jupyter-widgets/controls",
          "model_name": "DescriptionStyleModel",
          "state": {
            "_view_name": "StyleView",
            "_model_name": "DescriptionStyleModel",
            "description_width": "",
            "_view_module": "@jupyter-widgets/base",
            "_model_module_version": "1.5.0",
            "_view_count": null,
            "_view_module_version": "1.2.0",
            "_model_module": "@jupyter-widgets/controls"
          }
        },
        "c6d6d6d164914366a7d8af05c981f55b": {
          "model_module": "@jupyter-widgets/base",
          "model_name": "LayoutModel",
          "state": {
            "_view_name": "LayoutView",
            "grid_template_rows": null,
            "right": null,
            "justify_content": null,
            "_view_module": "@jupyter-widgets/base",
            "overflow": null,
            "_model_module_version": "1.2.0",
            "_view_count": null,
            "flex_flow": null,
            "width": null,
            "min_width": null,
            "border": null,
            "align_items": null,
            "bottom": null,
            "_model_module": "@jupyter-widgets/base",
            "top": null,
            "grid_column": null,
            "overflow_y": null,
            "overflow_x": null,
            "grid_auto_flow": null,
            "grid_area": null,
            "grid_template_columns": null,
            "flex": null,
            "_model_name": "LayoutModel",
            "justify_items": null,
            "grid_row": null,
            "max_height": null,
            "align_content": null,
            "visibility": null,
            "align_self": null,
            "height": null,
            "min_height": null,
            "padding": null,
            "grid_auto_rows": null,
            "grid_gap": null,
            "max_width": null,
            "order": null,
            "_view_module_version": "1.2.0",
            "grid_template_areas": null,
            "object_position": null,
            "object_fit": null,
            "grid_auto_columns": null,
            "margin": null,
            "display": null,
            "left": null
          }
        },
        "bb781d77cf354e51a3fd76aab6a03c1a": {
          "model_module": "@jupyter-widgets/controls",
          "model_name": "HBoxModel",
          "state": {
            "_view_name": "HBoxView",
            "_dom_classes": [],
            "_model_name": "HBoxModel",
            "_view_module": "@jupyter-widgets/controls",
            "_model_module_version": "1.5.0",
            "_view_count": null,
            "_view_module_version": "1.5.0",
            "box_style": "",
            "layout": "IPY_MODEL_4a64a257e97d4493ae721ae873647567",
            "_model_module": "@jupyter-widgets/controls",
            "children": [
              "IPY_MODEL_071dfc6394dc4e678a648f0813ec96af",
              "IPY_MODEL_1266db39b1a44a669713f43b0cb2ce44"
            ]
          }
        },
        "4a64a257e97d4493ae721ae873647567": {
          "model_module": "@jupyter-widgets/base",
          "model_name": "LayoutModel",
          "state": {
            "_view_name": "LayoutView",
            "grid_template_rows": null,
            "right": null,
            "justify_content": null,
            "_view_module": "@jupyter-widgets/base",
            "overflow": null,
            "_model_module_version": "1.2.0",
            "_view_count": null,
            "flex_flow": null,
            "width": null,
            "min_width": null,
            "border": null,
            "align_items": null,
            "bottom": null,
            "_model_module": "@jupyter-widgets/base",
            "top": null,
            "grid_column": null,
            "overflow_y": null,
            "overflow_x": null,
            "grid_auto_flow": null,
            "grid_area": null,
            "grid_template_columns": null,
            "flex": null,
            "_model_name": "LayoutModel",
            "justify_items": null,
            "grid_row": null,
            "max_height": null,
            "align_content": null,
            "visibility": null,
            "align_self": null,
            "height": null,
            "min_height": null,
            "padding": null,
            "grid_auto_rows": null,
            "grid_gap": null,
            "max_width": null,
            "order": null,
            "_view_module_version": "1.2.0",
            "grid_template_areas": null,
            "object_position": null,
            "object_fit": null,
            "grid_auto_columns": null,
            "margin": null,
            "display": null,
            "left": null
          }
        },
        "071dfc6394dc4e678a648f0813ec96af": {
          "model_module": "@jupyter-widgets/controls",
          "model_name": "FloatProgressModel",
          "state": {
            "_view_name": "ProgressView",
            "style": "IPY_MODEL_590a94682b3140f4ae6bd67a4fdb0811",
            "_dom_classes": [],
            "description": "",
            "_model_name": "FloatProgressModel",
            "bar_style": "success",
            "max": 1,
            "_view_module": "@jupyter-widgets/controls",
            "_model_module_version": "1.5.0",
            "value": 1,
            "_view_count": null,
            "_view_module_version": "1.5.0",
            "orientation": "horizontal",
            "min": 0,
            "description_tooltip": null,
            "_model_module": "@jupyter-widgets/controls",
            "layout": "IPY_MODEL_bce01f3c50f246ea8f7d946da88d5ea0"
          }
        },
        "1266db39b1a44a669713f43b0cb2ce44": {
          "model_module": "@jupyter-widgets/controls",
          "model_name": "HTMLModel",
          "state": {
            "_view_name": "HTMLView",
            "style": "IPY_MODEL_71b8afed6be14e9db2f4e59f0620ec34",
            "_dom_classes": [],
            "description": "",
            "_model_name": "HTMLModel",
            "placeholder": "​",
            "_view_module": "@jupyter-widgets/controls",
            "_model_module_version": "1.5.0",
            "value": " 32768/? [00:00&lt;00:00, 401690.93it/s]",
            "_view_count": null,
            "_view_module_version": "1.5.0",
            "description_tooltip": null,
            "_model_module": "@jupyter-widgets/controls",
            "layout": "IPY_MODEL_a41e0e51462640bd92070eb28d7ab491"
          }
        },
        "590a94682b3140f4ae6bd67a4fdb0811": {
          "model_module": "@jupyter-widgets/controls",
          "model_name": "ProgressStyleModel",
          "state": {
            "_view_name": "StyleView",
            "_model_name": "ProgressStyleModel",
            "description_width": "initial",
            "_view_module": "@jupyter-widgets/base",
            "_model_module_version": "1.5.0",
            "_view_count": null,
            "_view_module_version": "1.2.0",
            "bar_color": null,
            "_model_module": "@jupyter-widgets/controls"
          }
        },
        "bce01f3c50f246ea8f7d946da88d5ea0": {
          "model_module": "@jupyter-widgets/base",
          "model_name": "LayoutModel",
          "state": {
            "_view_name": "LayoutView",
            "grid_template_rows": null,
            "right": null,
            "justify_content": null,
            "_view_module": "@jupyter-widgets/base",
            "overflow": null,
            "_model_module_version": "1.2.0",
            "_view_count": null,
            "flex_flow": null,
            "width": null,
            "min_width": null,
            "border": null,
            "align_items": null,
            "bottom": null,
            "_model_module": "@jupyter-widgets/base",
            "top": null,
            "grid_column": null,
            "overflow_y": null,
            "overflow_x": null,
            "grid_auto_flow": null,
            "grid_area": null,
            "grid_template_columns": null,
            "flex": null,
            "_model_name": "LayoutModel",
            "justify_items": null,
            "grid_row": null,
            "max_height": null,
            "align_content": null,
            "visibility": null,
            "align_self": null,
            "height": null,
            "min_height": null,
            "padding": null,
            "grid_auto_rows": null,
            "grid_gap": null,
            "max_width": null,
            "order": null,
            "_view_module_version": "1.2.0",
            "grid_template_areas": null,
            "object_position": null,
            "object_fit": null,
            "grid_auto_columns": null,
            "margin": null,
            "display": null,
            "left": null
          }
        },
        "71b8afed6be14e9db2f4e59f0620ec34": {
          "model_module": "@jupyter-widgets/controls",
          "model_name": "DescriptionStyleModel",
          "state": {
            "_view_name": "StyleView",
            "_model_name": "DescriptionStyleModel",
            "description_width": "",
            "_view_module": "@jupyter-widgets/base",
            "_model_module_version": "1.5.0",
            "_view_count": null,
            "_view_module_version": "1.2.0",
            "_model_module": "@jupyter-widgets/controls"
          }
        },
        "a41e0e51462640bd92070eb28d7ab491": {
          "model_module": "@jupyter-widgets/base",
          "model_name": "LayoutModel",
          "state": {
            "_view_name": "LayoutView",
            "grid_template_rows": null,
            "right": null,
            "justify_content": null,
            "_view_module": "@jupyter-widgets/base",
            "overflow": null,
            "_model_module_version": "1.2.0",
            "_view_count": null,
            "flex_flow": null,
            "width": null,
            "min_width": null,
            "border": null,
            "align_items": null,
            "bottom": null,
            "_model_module": "@jupyter-widgets/base",
            "top": null,
            "grid_column": null,
            "overflow_y": null,
            "overflow_x": null,
            "grid_auto_flow": null,
            "grid_area": null,
            "grid_template_columns": null,
            "flex": null,
            "_model_name": "LayoutModel",
            "justify_items": null,
            "grid_row": null,
            "max_height": null,
            "align_content": null,
            "visibility": null,
            "align_self": null,
            "height": null,
            "min_height": null,
            "padding": null,
            "grid_auto_rows": null,
            "grid_gap": null,
            "max_width": null,
            "order": null,
            "_view_module_version": "1.2.0",
            "grid_template_areas": null,
            "object_position": null,
            "object_fit": null,
            "grid_auto_columns": null,
            "margin": null,
            "display": null,
            "left": null
          }
        },
        "07a554871bfc41ecaa0926f35eda1a4c": {
          "model_module": "@jupyter-widgets/controls",
          "model_name": "HBoxModel",
          "state": {
            "_view_name": "HBoxView",
            "_dom_classes": [],
            "_model_name": "HBoxModel",
            "_view_module": "@jupyter-widgets/controls",
            "_model_module_version": "1.5.0",
            "_view_count": null,
            "_view_module_version": "1.5.0",
            "box_style": "",
            "layout": "IPY_MODEL_9861bb4a219e4400b58e882c4b24d7df",
            "_model_module": "@jupyter-widgets/controls",
            "children": [
              "IPY_MODEL_995c287d7660491993b6f1e8dcd4dec6",
              "IPY_MODEL_4f3c0c0f2ebe4d06bc27997b60a517a3"
            ]
          }
        },
        "9861bb4a219e4400b58e882c4b24d7df": {
          "model_module": "@jupyter-widgets/base",
          "model_name": "LayoutModel",
          "state": {
            "_view_name": "LayoutView",
            "grid_template_rows": null,
            "right": null,
            "justify_content": null,
            "_view_module": "@jupyter-widgets/base",
            "overflow": null,
            "_model_module_version": "1.2.0",
            "_view_count": null,
            "flex_flow": null,
            "width": null,
            "min_width": null,
            "border": null,
            "align_items": null,
            "bottom": null,
            "_model_module": "@jupyter-widgets/base",
            "top": null,
            "grid_column": null,
            "overflow_y": null,
            "overflow_x": null,
            "grid_auto_flow": null,
            "grid_area": null,
            "grid_template_columns": null,
            "flex": null,
            "_model_name": "LayoutModel",
            "justify_items": null,
            "grid_row": null,
            "max_height": null,
            "align_content": null,
            "visibility": null,
            "align_self": null,
            "height": null,
            "min_height": null,
            "padding": null,
            "grid_auto_rows": null,
            "grid_gap": null,
            "max_width": null,
            "order": null,
            "_view_module_version": "1.2.0",
            "grid_template_areas": null,
            "object_position": null,
            "object_fit": null,
            "grid_auto_columns": null,
            "margin": null,
            "display": null,
            "left": null
          }
        },
        "995c287d7660491993b6f1e8dcd4dec6": {
          "model_module": "@jupyter-widgets/controls",
          "model_name": "FloatProgressModel",
          "state": {
            "_view_name": "ProgressView",
            "style": "IPY_MODEL_d57fac78d54247ab907851ea395381a6",
            "_dom_classes": [],
            "description": "",
            "_model_name": "FloatProgressModel",
            "bar_style": "info",
            "max": 1,
            "_view_module": "@jupyter-widgets/controls",
            "_model_module_version": "1.5.0",
            "value": 1,
            "_view_count": null,
            "_view_module_version": "1.5.0",
            "orientation": "horizontal",
            "min": 0,
            "description_tooltip": null,
            "_model_module": "@jupyter-widgets/controls",
            "layout": "IPY_MODEL_831697e67a5f498bb1f00e2c5b9ff4c8"
          }
        },
        "4f3c0c0f2ebe4d06bc27997b60a517a3": {
          "model_module": "@jupyter-widgets/controls",
          "model_name": "HTMLModel",
          "state": {
            "_view_name": "HTMLView",
            "style": "IPY_MODEL_2a2c616e7df844c48ee2e60cd438fbcd",
            "_dom_classes": [],
            "description": "",
            "_model_name": "HTMLModel",
            "placeholder": "​",
            "_view_module": "@jupyter-widgets/controls",
            "_model_module_version": "1.5.0",
            "value": " 1654784/? [00:19&lt;00:00, 138439.59it/s]",
            "_view_count": null,
            "_view_module_version": "1.5.0",
            "description_tooltip": null,
            "_model_module": "@jupyter-widgets/controls",
            "layout": "IPY_MODEL_40fa3f62e590411ba6f9d41963e4129e"
          }
        },
        "d57fac78d54247ab907851ea395381a6": {
          "model_module": "@jupyter-widgets/controls",
          "model_name": "ProgressStyleModel",
          "state": {
            "_view_name": "StyleView",
            "_model_name": "ProgressStyleModel",
            "description_width": "initial",
            "_view_module": "@jupyter-widgets/base",
            "_model_module_version": "1.5.0",
            "_view_count": null,
            "_view_module_version": "1.2.0",
            "bar_color": null,
            "_model_module": "@jupyter-widgets/controls"
          }
        },
        "831697e67a5f498bb1f00e2c5b9ff4c8": {
          "model_module": "@jupyter-widgets/base",
          "model_name": "LayoutModel",
          "state": {
            "_view_name": "LayoutView",
            "grid_template_rows": null,
            "right": null,
            "justify_content": null,
            "_view_module": "@jupyter-widgets/base",
            "overflow": null,
            "_model_module_version": "1.2.0",
            "_view_count": null,
            "flex_flow": null,
            "width": null,
            "min_width": null,
            "border": null,
            "align_items": null,
            "bottom": null,
            "_model_module": "@jupyter-widgets/base",
            "top": null,
            "grid_column": null,
            "overflow_y": null,
            "overflow_x": null,
            "grid_auto_flow": null,
            "grid_area": null,
            "grid_template_columns": null,
            "flex": null,
            "_model_name": "LayoutModel",
            "justify_items": null,
            "grid_row": null,
            "max_height": null,
            "align_content": null,
            "visibility": null,
            "align_self": null,
            "height": null,
            "min_height": null,
            "padding": null,
            "grid_auto_rows": null,
            "grid_gap": null,
            "max_width": null,
            "order": null,
            "_view_module_version": "1.2.0",
            "grid_template_areas": null,
            "object_position": null,
            "object_fit": null,
            "grid_auto_columns": null,
            "margin": null,
            "display": null,
            "left": null
          }
        },
        "2a2c616e7df844c48ee2e60cd438fbcd": {
          "model_module": "@jupyter-widgets/controls",
          "model_name": "DescriptionStyleModel",
          "state": {
            "_view_name": "StyleView",
            "_model_name": "DescriptionStyleModel",
            "description_width": "",
            "_view_module": "@jupyter-widgets/base",
            "_model_module_version": "1.5.0",
            "_view_count": null,
            "_view_module_version": "1.2.0",
            "_model_module": "@jupyter-widgets/controls"
          }
        },
        "40fa3f62e590411ba6f9d41963e4129e": {
          "model_module": "@jupyter-widgets/base",
          "model_name": "LayoutModel",
          "state": {
            "_view_name": "LayoutView",
            "grid_template_rows": null,
            "right": null,
            "justify_content": null,
            "_view_module": "@jupyter-widgets/base",
            "overflow": null,
            "_model_module_version": "1.2.0",
            "_view_count": null,
            "flex_flow": null,
            "width": null,
            "min_width": null,
            "border": null,
            "align_items": null,
            "bottom": null,
            "_model_module": "@jupyter-widgets/base",
            "top": null,
            "grid_column": null,
            "overflow_y": null,
            "overflow_x": null,
            "grid_auto_flow": null,
            "grid_area": null,
            "grid_template_columns": null,
            "flex": null,
            "_model_name": "LayoutModel",
            "justify_items": null,
            "grid_row": null,
            "max_height": null,
            "align_content": null,
            "visibility": null,
            "align_self": null,
            "height": null,
            "min_height": null,
            "padding": null,
            "grid_auto_rows": null,
            "grid_gap": null,
            "max_width": null,
            "order": null,
            "_view_module_version": "1.2.0",
            "grid_template_areas": null,
            "object_position": null,
            "object_fit": null,
            "grid_auto_columns": null,
            "margin": null,
            "display": null,
            "left": null
          }
        },
        "2d476169a4844a36879b86843a65ed8b": {
          "model_module": "@jupyter-widgets/controls",
          "model_name": "HBoxModel",
          "state": {
            "_view_name": "HBoxView",
            "_dom_classes": [],
            "_model_name": "HBoxModel",
            "_view_module": "@jupyter-widgets/controls",
            "_model_module_version": "1.5.0",
            "_view_count": null,
            "_view_module_version": "1.5.0",
            "box_style": "",
            "layout": "IPY_MODEL_bb920052fdc14a7ba866a6cc4f3b1876",
            "_model_module": "@jupyter-widgets/controls",
            "children": [
              "IPY_MODEL_b8c92930dba04d539767d41f29b681df",
              "IPY_MODEL_3ff8bbcc85ba4d0cac67009a4cd53d4f"
            ]
          }
        },
        "bb920052fdc14a7ba866a6cc4f3b1876": {
          "model_module": "@jupyter-widgets/base",
          "model_name": "LayoutModel",
          "state": {
            "_view_name": "LayoutView",
            "grid_template_rows": null,
            "right": null,
            "justify_content": null,
            "_view_module": "@jupyter-widgets/base",
            "overflow": null,
            "_model_module_version": "1.2.0",
            "_view_count": null,
            "flex_flow": null,
            "width": null,
            "min_width": null,
            "border": null,
            "align_items": null,
            "bottom": null,
            "_model_module": "@jupyter-widgets/base",
            "top": null,
            "grid_column": null,
            "overflow_y": null,
            "overflow_x": null,
            "grid_auto_flow": null,
            "grid_area": null,
            "grid_template_columns": null,
            "flex": null,
            "_model_name": "LayoutModel",
            "justify_items": null,
            "grid_row": null,
            "max_height": null,
            "align_content": null,
            "visibility": null,
            "align_self": null,
            "height": null,
            "min_height": null,
            "padding": null,
            "grid_auto_rows": null,
            "grid_gap": null,
            "max_width": null,
            "order": null,
            "_view_module_version": "1.2.0",
            "grid_template_areas": null,
            "object_position": null,
            "object_fit": null,
            "grid_auto_columns": null,
            "margin": null,
            "display": null,
            "left": null
          }
        },
        "b8c92930dba04d539767d41f29b681df": {
          "model_module": "@jupyter-widgets/controls",
          "model_name": "FloatProgressModel",
          "state": {
            "_view_name": "ProgressView",
            "style": "IPY_MODEL_6976df9abcc34a3eb974c6e5e27d2347",
            "_dom_classes": [],
            "description": "",
            "_model_name": "FloatProgressModel",
            "bar_style": "success",
            "max": 1,
            "_view_module": "@jupyter-widgets/controls",
            "_model_module_version": "1.5.0",
            "value": 1,
            "_view_count": null,
            "_view_module_version": "1.5.0",
            "orientation": "horizontal",
            "min": 0,
            "description_tooltip": null,
            "_model_module": "@jupyter-widgets/controls",
            "layout": "IPY_MODEL_c354756fe5e44b89a092e9821eecb173"
          }
        },
        "3ff8bbcc85ba4d0cac67009a4cd53d4f": {
          "model_module": "@jupyter-widgets/controls",
          "model_name": "HTMLModel",
          "state": {
            "_view_name": "HTMLView",
            "style": "IPY_MODEL_5e503428cbed428c83aeb3d8f047314a",
            "_dom_classes": [],
            "description": "",
            "_model_name": "HTMLModel",
            "placeholder": "​",
            "_view_module": "@jupyter-widgets/controls",
            "_model_module_version": "1.5.0",
            "value": " 8192/? [00:07&lt;00:00, 1133.28it/s]",
            "_view_count": null,
            "_view_module_version": "1.5.0",
            "description_tooltip": null,
            "_model_module": "@jupyter-widgets/controls",
            "layout": "IPY_MODEL_31a83339704746d7ac024285b772d4ff"
          }
        },
        "6976df9abcc34a3eb974c6e5e27d2347": {
          "model_module": "@jupyter-widgets/controls",
          "model_name": "ProgressStyleModel",
          "state": {
            "_view_name": "StyleView",
            "_model_name": "ProgressStyleModel",
            "description_width": "initial",
            "_view_module": "@jupyter-widgets/base",
            "_model_module_version": "1.5.0",
            "_view_count": null,
            "_view_module_version": "1.2.0",
            "bar_color": null,
            "_model_module": "@jupyter-widgets/controls"
          }
        },
        "c354756fe5e44b89a092e9821eecb173": {
          "model_module": "@jupyter-widgets/base",
          "model_name": "LayoutModel",
          "state": {
            "_view_name": "LayoutView",
            "grid_template_rows": null,
            "right": null,
            "justify_content": null,
            "_view_module": "@jupyter-widgets/base",
            "overflow": null,
            "_model_module_version": "1.2.0",
            "_view_count": null,
            "flex_flow": null,
            "width": null,
            "min_width": null,
            "border": null,
            "align_items": null,
            "bottom": null,
            "_model_module": "@jupyter-widgets/base",
            "top": null,
            "grid_column": null,
            "overflow_y": null,
            "overflow_x": null,
            "grid_auto_flow": null,
            "grid_area": null,
            "grid_template_columns": null,
            "flex": null,
            "_model_name": "LayoutModel",
            "justify_items": null,
            "grid_row": null,
            "max_height": null,
            "align_content": null,
            "visibility": null,
            "align_self": null,
            "height": null,
            "min_height": null,
            "padding": null,
            "grid_auto_rows": null,
            "grid_gap": null,
            "max_width": null,
            "order": null,
            "_view_module_version": "1.2.0",
            "grid_template_areas": null,
            "object_position": null,
            "object_fit": null,
            "grid_auto_columns": null,
            "margin": null,
            "display": null,
            "left": null
          }
        },
        "5e503428cbed428c83aeb3d8f047314a": {
          "model_module": "@jupyter-widgets/controls",
          "model_name": "DescriptionStyleModel",
          "state": {
            "_view_name": "StyleView",
            "_model_name": "DescriptionStyleModel",
            "description_width": "",
            "_view_module": "@jupyter-widgets/base",
            "_model_module_version": "1.5.0",
            "_view_count": null,
            "_view_module_version": "1.2.0",
            "_model_module": "@jupyter-widgets/controls"
          }
        },
        "31a83339704746d7ac024285b772d4ff": {
          "model_module": "@jupyter-widgets/base",
          "model_name": "LayoutModel",
          "state": {
            "_view_name": "LayoutView",
            "grid_template_rows": null,
            "right": null,
            "justify_content": null,
            "_view_module": "@jupyter-widgets/base",
            "overflow": null,
            "_model_module_version": "1.2.0",
            "_view_count": null,
            "flex_flow": null,
            "width": null,
            "min_width": null,
            "border": null,
            "align_items": null,
            "bottom": null,
            "_model_module": "@jupyter-widgets/base",
            "top": null,
            "grid_column": null,
            "overflow_y": null,
            "overflow_x": null,
            "grid_auto_flow": null,
            "grid_area": null,
            "grid_template_columns": null,
            "flex": null,
            "_model_name": "LayoutModel",
            "justify_items": null,
            "grid_row": null,
            "max_height": null,
            "align_content": null,
            "visibility": null,
            "align_self": null,
            "height": null,
            "min_height": null,
            "padding": null,
            "grid_auto_rows": null,
            "grid_gap": null,
            "max_width": null,
            "order": null,
            "_view_module_version": "1.2.0",
            "grid_template_areas": null,
            "object_position": null,
            "object_fit": null,
            "grid_auto_columns": null,
            "margin": null,
            "display": null,
            "left": null
          }
        }
      }
    }
  },
  "cells": [
    {
      "cell_type": "markdown",
      "metadata": {
        "id": "view-in-github",
        "colab_type": "text"
      },
      "source": [
        "<a href=\"https://colab.research.google.com/github/ddooom/object-oriented-programming/blob/master/assignment_11.ipynb\" target=\"_parent\"><img src=\"https://colab.research.google.com/assets/colab-badge.svg\" alt=\"Open In Colab\"/></a>"
      ]
    },
    {
      "cell_type": "code",
      "metadata": {
        "id": "rEeKwM94_fxX"
      },
      "source": [
        "import torch\n",
        "import torch.nn as nn\n",
        "from torch.utils.data import Dataset, DataLoader, TensorDataset\n",
        "from torchvision import transforms\n",
        "from torchvision.datasets import MNIST\n",
        "import matplotlib.pyplot as plt\n",
        "from torch.autograd import Variable\n",
        "import pandas as pd\n",
        "from itertools import product\n",
        "import torch.nn.functional as F\n",
        "import math"
      ],
      "execution_count": 2,
      "outputs": []
    },
    {
      "cell_type": "markdown",
      "metadata": {
        "id": "CbqKGvM6_tol"
      },
      "source": [
        "### Load MNIST datasets"
      ]
    },
    {
      "cell_type": "code",
      "metadata": {
        "colab": {
          "base_uri": "https://localhost:8080/",
          "height": 396,
          "referenced_widgets": [
            "96605095a51a428095489c68645e2d1e",
            "aae9931dfed94156bd28b9dbef1dd2fe",
            "fbf4e54b7b5d4f009b5cb3744e99611e",
            "65b537fe0a7d4121bffb6a27060858f8",
            "cf2b84cc518743ac88b1914cd3df2ab6",
            "ed97ac296aee4558b73da88c5f5afa16",
            "2efa43471d384e04a49483dbc596ce1a",
            "c6d6d6d164914366a7d8af05c981f55b",
            "bb781d77cf354e51a3fd76aab6a03c1a",
            "4a64a257e97d4493ae721ae873647567",
            "071dfc6394dc4e678a648f0813ec96af",
            "1266db39b1a44a669713f43b0cb2ce44",
            "590a94682b3140f4ae6bd67a4fdb0811",
            "bce01f3c50f246ea8f7d946da88d5ea0",
            "71b8afed6be14e9db2f4e59f0620ec34",
            "a41e0e51462640bd92070eb28d7ab491",
            "07a554871bfc41ecaa0926f35eda1a4c",
            "9861bb4a219e4400b58e882c4b24d7df",
            "995c287d7660491993b6f1e8dcd4dec6",
            "4f3c0c0f2ebe4d06bc27997b60a517a3",
            "d57fac78d54247ab907851ea395381a6",
            "831697e67a5f498bb1f00e2c5b9ff4c8",
            "2a2c616e7df844c48ee2e60cd438fbcd",
            "40fa3f62e590411ba6f9d41963e4129e",
            "2d476169a4844a36879b86843a65ed8b",
            "bb920052fdc14a7ba866a6cc4f3b1876",
            "b8c92930dba04d539767d41f29b681df",
            "3ff8bbcc85ba4d0cac67009a4cd53d4f",
            "6976df9abcc34a3eb974c6e5e27d2347",
            "c354756fe5e44b89a092e9821eecb173",
            "5e503428cbed428c83aeb3d8f047314a",
            "31a83339704746d7ac024285b772d4ff"
          ]
        },
        "id": "qUNxuC7o_sq6",
        "outputId": "2aedb257-54dc-4f14-e5f0-46b7740ca134"
      },
      "source": [
        "transform = transforms.Compose([\n",
        "    transforms.ToTensor(),\n",
        "])\n",
        "\n",
        "\n",
        "data_path = './MNIST'\n",
        "data_test  = MNIST(root = data_path, train= True, download=True, transform= transform)\n",
        "data_train = MNIST(root = data_path, train= False, download=True, transform= transform)\n",
        "\n",
        "\n",
        "loader_train = DataLoader(data_train, batch_size=10, num_workers=0, shuffle=False)\n",
        "loader_test = DataLoader(data_test, batch_size=10, num_workers=0, shuffle=False)\n",
        "\n",
        "mean = 0.\n",
        "std = 0.\n",
        "for images, _ in loader_train:\n",
        "    batch_samples = images.size(0) \n",
        "    images = images.view(batch_samples, images.size(1), -1)\n",
        "    mean += images.mean(2).sum(0)\n",
        "    std += images.std(2).sum(0)\n",
        "\n",
        "for images, _ in loader_test:\n",
        "    batch_samples = images.size(0) \n",
        "    images = images.view(batch_samples, images.size(1), -1)\n",
        "    mean += images.mean(2).sum(0)\n",
        "    std += images.std(2).sum(0)\n",
        "\n",
        "mean /= len(loader_train.dataset) + len(loader_test.dataset)\n",
        "std /= len(loader_train.dataset) + len(loader_test.dataset)\n",
        "\n",
        "\n",
        "transform = transforms.Compose([\n",
        "    transforms.ToTensor(),\n",
        "    transforms.Normalize((mean,),(std,)), \n",
        "])\n",
        "\n",
        "\n",
        "data_path = './MNIST'\n",
        "data_test  = MNIST(root = data_path, train= True, download=True, transform= transform)\n",
        "data_train = MNIST(root = data_path, train= False, download=True, transform= transform)"
      ],
      "execution_count": 3,
      "outputs": [
        {
          "output_type": "stream",
          "text": [
            "Downloading http://yann.lecun.com/exdb/mnist/train-images-idx3-ubyte.gz to ./MNIST/MNIST/raw/train-images-idx3-ubyte.gz\n"
          ],
          "name": "stdout"
        },
        {
          "output_type": "display_data",
          "data": {
            "application/vnd.jupyter.widget-view+json": {
              "model_id": "96605095a51a428095489c68645e2d1e",
              "version_minor": 0,
              "version_major": 2
            },
            "text/plain": [
              "HBox(children=(FloatProgress(value=1.0, bar_style='info', max=1.0), HTML(value='')))"
            ]
          },
          "metadata": {
            "tags": []
          }
        },
        {
          "output_type": "stream",
          "text": [
            "Extracting ./MNIST/MNIST/raw/train-images-idx3-ubyte.gz to ./MNIST/MNIST/raw\n",
            "Downloading http://yann.lecun.com/exdb/mnist/train-labels-idx1-ubyte.gz to ./MNIST/MNIST/raw/train-labels-idx1-ubyte.gz\n"
          ],
          "name": "stdout"
        },
        {
          "output_type": "display_data",
          "data": {
            "application/vnd.jupyter.widget-view+json": {
              "model_id": "bb781d77cf354e51a3fd76aab6a03c1a",
              "version_minor": 0,
              "version_major": 2
            },
            "text/plain": [
              "HBox(children=(FloatProgress(value=1.0, bar_style='info', max=1.0), HTML(value='')))"
            ]
          },
          "metadata": {
            "tags": []
          }
        },
        {
          "output_type": "stream",
          "text": [
            "Extracting ./MNIST/MNIST/raw/train-labels-idx1-ubyte.gz to ./MNIST/MNIST/raw\n",
            "Downloading http://yann.lecun.com/exdb/mnist/t10k-images-idx3-ubyte.gz to ./MNIST/MNIST/raw/t10k-images-idx3-ubyte.gz\n",
            "\n"
          ],
          "name": "stdout"
        },
        {
          "output_type": "display_data",
          "data": {
            "application/vnd.jupyter.widget-view+json": {
              "model_id": "07a554871bfc41ecaa0926f35eda1a4c",
              "version_minor": 0,
              "version_major": 2
            },
            "text/plain": [
              "HBox(children=(FloatProgress(value=1.0, bar_style='info', max=1.0), HTML(value='')))"
            ]
          },
          "metadata": {
            "tags": []
          }
        },
        {
          "output_type": "stream",
          "text": [
            "Extracting ./MNIST/MNIST/raw/t10k-images-idx3-ubyte.gz to ./MNIST/MNIST/raw\n",
            "Downloading http://yann.lecun.com/exdb/mnist/t10k-labels-idx1-ubyte.gz to ./MNIST/MNIST/raw/t10k-labels-idx1-ubyte.gz\n"
          ],
          "name": "stdout"
        },
        {
          "output_type": "display_data",
          "data": {
            "application/vnd.jupyter.widget-view+json": {
              "model_id": "2d476169a4844a36879b86843a65ed8b",
              "version_minor": 0,
              "version_major": 2
            },
            "text/plain": [
              "HBox(children=(FloatProgress(value=1.0, bar_style='info', max=1.0), HTML(value='')))"
            ]
          },
          "metadata": {
            "tags": []
          }
        },
        {
          "output_type": "stream",
          "text": [
            "Extracting ./MNIST/MNIST/raw/t10k-labels-idx1-ubyte.gz to ./MNIST/MNIST/raw\n",
            "Processing...\n",
            "Done!\n"
          ],
          "name": "stdout"
        },
        {
          "output_type": "stream",
          "text": [
            "/usr/local/lib/python3.6/dist-packages/torchvision/datasets/mnist.py:480: UserWarning: The given NumPy array is not writeable, and PyTorch does not support non-writeable tensors. This means you can write to the underlying (supposedly non-writeable) NumPy array using the tensor. You may want to copy the array to protect its data or make it writeable before converting it to a tensor. This type of warning will be suppressed for the rest of this program. (Triggered internally at  /pytorch/torch/csrc/utils/tensor_numpy.cpp:141.)\n",
            "  return torch.from_numpy(parsed.astype(m[2], copy=False)).view(*s)\n"
          ],
          "name": "stderr"
        }
      ]
    },
    {
      "cell_type": "code",
      "metadata": {
        "colab": {
          "base_uri": "https://localhost:8080/"
        },
        "id": "m4BofBKf_4W_",
        "outputId": "cddc2e4a-6998-4521-e739-d6950ef22e80"
      },
      "source": [
        "print(\"the number of your training data (must be 10,000) = \", data_train.__len__())\n",
        "print(\"hte number of your testing data (must be 60,000) = \", data_test.__len__())"
      ],
      "execution_count": 4,
      "outputs": [
        {
          "output_type": "stream",
          "text": [
            "the number of your training data (must be 10,000) =  10000\n",
            "hte number of your testing data (must be 60,000) =  60000\n"
          ],
          "name": "stdout"
        }
      ]
    },
    {
      "cell_type": "markdown",
      "metadata": {
        "id": "CL1nttpHAQ_e"
      },
      "source": [
        "### Set Neural Network"
      ]
    },
    {
      "cell_type": "code",
      "metadata": {
        "id": "D3nf3f66AMFb"
      },
      "source": [
        "class MyModel(nn.Module):\n",
        "    def __init__(self):\n",
        "        super(MyModel, self).__init__()\n",
        "        \n",
        "        self.layer1 = nn.Sequential(\n",
        "            nn.Conv2d(1 , 32, kernel_size=5),\n",
        "            nn.ReLU(),\n",
        "            nn.MaxPool2d(kernel_size=2))\n",
        "        \n",
        "        self.layer2 = nn.Sequential(\n",
        "            nn.Conv2d(32, 64, kernel_size=5),\n",
        "            nn.ReLU(),\n",
        "            nn.MaxPool2d(kernel_size=2))\n",
        "\n",
        "        self.fc1 = nn.Linear(4 * 4 * 64, 10)\n",
        "\n",
        "    def forward(self, x):\n",
        "        x = self.layer1(x)\n",
        "        x = self.layer2(x)\n",
        "        x = x.reshape(x.size(0), -1)\n",
        "        x = self.fc1(x)\n",
        "        return x"
      ],
      "execution_count": 52,
      "outputs": []
    },
    {
      "cell_type": "code",
      "metadata": {
        "id": "EF2FSdtazcMR"
      },
      "source": [
        "a=3"
      ],
      "execution_count": 54,
      "outputs": []
    },
    {
      "cell_type": "markdown",
      "metadata": {
        "id": "HmB6iYX9GJxX"
      },
      "source": [
        "### Set Modeling Function\n"
      ]
    },
    {
      "cell_type": "code",
      "metadata": {
        "id": "zjPj8ycPDHnV"
      },
      "source": [
        "def train():\n",
        "    model.train()\n",
        "    train_loss = 0\n",
        "    train_acc = 0\n",
        "\n",
        "    for data, label in mini_batch_train:\n",
        "        data, label = Variable(data).cuda(), Variable(label).cuda()\n",
        "        output = model.forward(data)\n",
        "        loss = criterion(output, label)\n",
        "\n",
        "        optimizer.zero_grad()\n",
        "        loss.backward()\n",
        "        optimizer.step()\n",
        "\n",
        "        train_loss += loss.item()\n",
        "        pred = output.data.max(1, keepdim=True)[1]\n",
        "        train_acc += pred.eq(label.data.view_as(pred)).sum()\n",
        "\n",
        "    lr_sechduler.step()\n",
        "    \n",
        "    train_loss /= len(mini_batch_train.dataset)\n",
        "\n",
        "    return train_loss, train_acc\n",
        "\n",
        "def test():\n",
        "    model.eval()\n",
        "    test_loss = 0\n",
        "    test_acc = 0\n",
        "    \n",
        "    for data, target in mini_batch_test:\n",
        "        data, target = Variable(data).cuda(), Variable(target).cuda()\n",
        "        output = model.forward(data)\n",
        "\n",
        "        test_loss += criterion(output, target).item()\n",
        "        pred = output.data.max(1, keepdim=True)[1]\n",
        "        test_acc += pred.eq(target.data.view_as(pred)).sum()\n",
        "\n",
        "    test_loss /= len(mini_batch_test.dataset)\n",
        "\n",
        "    return test_loss, test_acc\n",
        "\n",
        "def modeling(epoch):\n",
        "  train_losses = []\n",
        "  train_accs = []\n",
        "\n",
        "  test_losses = []\n",
        "  test_accs = []\n",
        "\n",
        "  for epo in range(1, epoch+1):\n",
        "    train_loss, train_acc = train()\n",
        "    test_loss, test_acc = test()\n",
        "\n",
        "    print('Epoch: {} / Train -> Loss : {:.4f}, Accuracy : {:.4f}%)'.format(epo, train_loss, 100. * train_acc / len(mini_batch_train.dataset)))\n",
        "    print('            Test  -> Loss : {:.4f}, Accuracy : {:.4f}%)'.format(test_loss, 100. * test_acc / len(mini_batch_test.dataset)))\n",
        "  \n",
        "    train_losses.append(train_loss)\n",
        "    train_accs.append(train_acc / len(mini_batch_train.dataset))\n",
        "    test_losses.append(test_loss)\n",
        "    test_accs.append(test_acc / len(mini_batch_test.dataset))\n",
        "\n",
        "  return train_losses, train_accs, test_losses, test_accs"
      ],
      "execution_count": 48,
      "outputs": []
    },
    {
      "cell_type": "code",
      "metadata": {
        "colab": {
          "base_uri": "https://localhost:8080/"
        },
        "id": "jwmoBYRVGaDR",
        "outputId": "793a0592-5f2b-465e-dc81-c987c1c017a7"
      },
      "source": [
        "batch_size = [128]\n",
        "lr = [0.001]\n",
        "gamma = [0.999]\n",
        "\n",
        "comb = list(product(batch_size, lr, gamma))\n",
        "best_acc = {}\n",
        "history = []\n",
        "epoc_history = []\n",
        "\n",
        "for parameter in comb:\n",
        "  mini_batch_train = DataLoader(data_train, batch_size=parameter[0], shuffle=True)\n",
        "  mini_batch_test = DataLoader(data_test, batch_size=parameter[0], shuffle=True)\n",
        "\n",
        "  model = MyModel().cuda()\n",
        "  criterion = nn.CrossEntropyLoss()\n",
        "  optimizer = torch.optim.Adam(model.parameters(), lr=parameter[1])\n",
        "  lr_sechduler = torch.optim.lr_scheduler.ExponentialLR(optimizer, gamma=parameter[2])\n",
        "\n",
        "  train_losses, train_accs, test_losses, test_accs = modeling(50)\n",
        "\n",
        "  best_acc['batch_size',parameter[0], \"learning_rate\",parameter[1], \n",
        "            \"gamme\",parameter[2]]=[test_accs.index(max(test_accs)), max(test_accs)]\n",
        "\n",
        "  history.append([train_losses, train_accs, test_losses, test_accs])\n",
        "  epoc_history.append(test_accs.index(max(test_accs)))\n",
        "  best_acc_epoc = test_accs.index(max(test_accs))+1\n",
        "\n",
        "  print('batch_size : ',parameter[0], \"learning_rate : \",parameter[1], \"gamme : \",parameter[2])\n",
        "  print(\"epoch : \", best_acc_epoc,  \"max_test_acc : \", max(test_accs))"
      ],
      "execution_count": 53,
      "outputs": [
        {
          "output_type": "stream",
          "text": [
            "Epoch: 1 / Train -> Loss : 0.0039, Accuracy : 85.1100%)\n",
            "            Test  -> Loss : 0.0015, Accuracy : 94.0733%)\n",
            "Epoch: 2 / Train -> Loss : 0.0009, Accuracy : 96.6100%)\n",
            "            Test  -> Loss : 0.0010, Accuracy : 96.3167%)\n",
            "Epoch: 3 / Train -> Loss : 0.0005, Accuracy : 97.9100%)\n",
            "            Test  -> Loss : 0.0009, Accuracy : 96.6417%)\n",
            "Epoch: 4 / Train -> Loss : 0.0004, Accuracy : 98.5500%)\n",
            "            Test  -> Loss : 0.0007, Accuracy : 97.2600%)\n",
            "Epoch: 5 / Train -> Loss : 0.0002, Accuracy : 99.0700%)\n",
            "            Test  -> Loss : 0.0007, Accuracy : 97.4933%)\n",
            "Epoch: 6 / Train -> Loss : 0.0002, Accuracy : 99.4400%)\n",
            "            Test  -> Loss : 0.0006, Accuracy : 97.6383%)\n",
            "Epoch: 7 / Train -> Loss : 0.0001, Accuracy : 99.4700%)\n",
            "            Test  -> Loss : 0.0006, Accuracy : 97.8350%)\n",
            "Epoch: 8 / Train -> Loss : 0.0002, Accuracy : 99.3400%)\n",
            "            Test  -> Loss : 0.0007, Accuracy : 97.5817%)\n",
            "Epoch: 9 / Train -> Loss : 0.0001, Accuracy : 99.6600%)\n",
            "            Test  -> Loss : 0.0007, Accuracy : 97.7167%)\n",
            "Epoch: 10 / Train -> Loss : 0.0000, Accuracy : 99.9000%)\n",
            "            Test  -> Loss : 0.0007, Accuracy : 97.7233%)\n",
            "Epoch: 11 / Train -> Loss : 0.0000, Accuracy : 99.9600%)\n",
            "            Test  -> Loss : 0.0007, Accuracy : 97.7150%)\n",
            "Epoch: 12 / Train -> Loss : 0.0000, Accuracy : 99.9700%)\n",
            "            Test  -> Loss : 0.0007, Accuracy : 97.8850%)\n",
            "Epoch: 13 / Train -> Loss : 0.0000, Accuracy : 100.0000%)\n",
            "            Test  -> Loss : 0.0007, Accuracy : 97.8767%)\n",
            "Epoch: 14 / Train -> Loss : 0.0000, Accuracy : 99.9700%)\n",
            "            Test  -> Loss : 0.0008, Accuracy : 97.8167%)\n",
            "Epoch: 15 / Train -> Loss : 0.0000, Accuracy : 100.0000%)\n",
            "            Test  -> Loss : 0.0007, Accuracy : 97.9017%)\n",
            "Epoch: 16 / Train -> Loss : 0.0000, Accuracy : 100.0000%)\n",
            "            Test  -> Loss : 0.0007, Accuracy : 97.9333%)\n",
            "Epoch: 17 / Train -> Loss : 0.0000, Accuracy : 100.0000%)\n",
            "            Test  -> Loss : 0.0007, Accuracy : 97.9567%)\n",
            "Epoch: 18 / Train -> Loss : 0.0000, Accuracy : 100.0000%)\n",
            "            Test  -> Loss : 0.0007, Accuracy : 97.9283%)\n",
            "Epoch: 19 / Train -> Loss : 0.0000, Accuracy : 100.0000%)\n",
            "            Test  -> Loss : 0.0008, Accuracy : 97.9250%)\n",
            "Epoch: 20 / Train -> Loss : 0.0000, Accuracy : 100.0000%)\n",
            "            Test  -> Loss : 0.0008, Accuracy : 97.9217%)\n",
            "Epoch: 21 / Train -> Loss : 0.0000, Accuracy : 100.0000%)\n",
            "            Test  -> Loss : 0.0008, Accuracy : 97.9033%)\n",
            "Epoch: 22 / Train -> Loss : 0.0000, Accuracy : 100.0000%)\n",
            "            Test  -> Loss : 0.0008, Accuracy : 97.9333%)\n",
            "Epoch: 23 / Train -> Loss : 0.0000, Accuracy : 100.0000%)\n",
            "            Test  -> Loss : 0.0008, Accuracy : 97.9250%)\n",
            "Epoch: 24 / Train -> Loss : 0.0000, Accuracy : 100.0000%)\n",
            "            Test  -> Loss : 0.0008, Accuracy : 97.9317%)\n",
            "Epoch: 25 / Train -> Loss : 0.0000, Accuracy : 100.0000%)\n",
            "            Test  -> Loss : 0.0008, Accuracy : 97.9333%)\n",
            "Epoch: 26 / Train -> Loss : 0.0000, Accuracy : 100.0000%)\n",
            "            Test  -> Loss : 0.0008, Accuracy : 97.9283%)\n",
            "Epoch: 27 / Train -> Loss : 0.0000, Accuracy : 100.0000%)\n",
            "            Test  -> Loss : 0.0008, Accuracy : 97.9233%)\n",
            "Epoch: 28 / Train -> Loss : 0.0000, Accuracy : 100.0000%)\n",
            "            Test  -> Loss : 0.0008, Accuracy : 97.9383%)\n",
            "Epoch: 29 / Train -> Loss : 0.0000, Accuracy : 100.0000%)\n",
            "            Test  -> Loss : 0.0008, Accuracy : 97.9267%)\n",
            "Epoch: 30 / Train -> Loss : 0.0000, Accuracy : 100.0000%)\n",
            "            Test  -> Loss : 0.0008, Accuracy : 97.9300%)\n",
            "Epoch: 31 / Train -> Loss : 0.0000, Accuracy : 100.0000%)\n",
            "            Test  -> Loss : 0.0009, Accuracy : 97.9133%)\n",
            "Epoch: 32 / Train -> Loss : 0.0000, Accuracy : 100.0000%)\n",
            "            Test  -> Loss : 0.0009, Accuracy : 97.9100%)\n",
            "Epoch: 33 / Train -> Loss : 0.0000, Accuracy : 100.0000%)\n",
            "            Test  -> Loss : 0.0009, Accuracy : 97.9350%)\n",
            "Epoch: 34 / Train -> Loss : 0.0000, Accuracy : 100.0000%)\n",
            "            Test  -> Loss : 0.0009, Accuracy : 97.9200%)\n",
            "Epoch: 35 / Train -> Loss : 0.0000, Accuracy : 100.0000%)\n",
            "            Test  -> Loss : 0.0009, Accuracy : 97.9333%)\n",
            "Epoch: 36 / Train -> Loss : 0.0000, Accuracy : 100.0000%)\n",
            "            Test  -> Loss : 0.0009, Accuracy : 97.9250%)\n",
            "Epoch: 37 / Train -> Loss : 0.0000, Accuracy : 100.0000%)\n",
            "            Test  -> Loss : 0.0009, Accuracy : 97.9417%)\n",
            "Epoch: 38 / Train -> Loss : 0.0000, Accuracy : 100.0000%)\n",
            "            Test  -> Loss : 0.0009, Accuracy : 97.9367%)\n",
            "Epoch: 39 / Train -> Loss : 0.0000, Accuracy : 100.0000%)\n",
            "            Test  -> Loss : 0.0009, Accuracy : 97.9333%)\n",
            "Epoch: 40 / Train -> Loss : 0.0000, Accuracy : 100.0000%)\n",
            "            Test  -> Loss : 0.0009, Accuracy : 97.9383%)\n",
            "Epoch: 41 / Train -> Loss : 0.0000, Accuracy : 100.0000%)\n",
            "            Test  -> Loss : 0.0009, Accuracy : 97.9267%)\n",
            "Epoch: 42 / Train -> Loss : 0.0000, Accuracy : 100.0000%)\n",
            "            Test  -> Loss : 0.0009, Accuracy : 97.9200%)\n",
            "Epoch: 43 / Train -> Loss : 0.0000, Accuracy : 100.0000%)\n",
            "            Test  -> Loss : 0.0009, Accuracy : 97.9500%)\n",
            "Epoch: 44 / Train -> Loss : 0.0000, Accuracy : 100.0000%)\n",
            "            Test  -> Loss : 0.0009, Accuracy : 97.9400%)\n",
            "Epoch: 45 / Train -> Loss : 0.0000, Accuracy : 100.0000%)\n",
            "            Test  -> Loss : 0.0009, Accuracy : 97.9500%)\n",
            "Epoch: 46 / Train -> Loss : 0.0000, Accuracy : 100.0000%)\n",
            "            Test  -> Loss : 0.0009, Accuracy : 97.9367%)\n",
            "Epoch: 47 / Train -> Loss : 0.0000, Accuracy : 100.0000%)\n",
            "            Test  -> Loss : 0.0009, Accuracy : 97.9283%)\n",
            "Epoch: 48 / Train -> Loss : 0.0000, Accuracy : 100.0000%)\n",
            "            Test  -> Loss : 0.0009, Accuracy : 97.9283%)\n",
            "Epoch: 49 / Train -> Loss : 0.0000, Accuracy : 100.0000%)\n",
            "            Test  -> Loss : 0.0010, Accuracy : 97.9217%)\n",
            "Epoch: 50 / Train -> Loss : 0.0000, Accuracy : 100.0000%)\n",
            "            Test  -> Loss : 0.0010, Accuracy : 97.9250%)\n",
            "batch_size :  128 learning_rate :  0.001 gamme :  0.999\n",
            "epoch :  17 max_test_acc :  tensor(0.9796, device='cuda:0')\n"
          ],
          "name": "stdout"
        }
      ]
    },
    {
      "cell_type": "markdown",
      "metadata": {
        "id": "XlRFepDlbudV"
      },
      "source": [
        "#Output"
      ]
    },
    {
      "cell_type": "markdown",
      "metadata": {
        "id": "uwqLtAQycygg"
      },
      "source": [
        "### Plot the training and testing losses over epochs"
      ]
    },
    {
      "cell_type": "code",
      "metadata": {
        "colab": {
          "base_uri": "https://localhost:8080/",
          "height": 354
        },
        "id": "C_LYSU4jbsQc",
        "outputId": "b37b7309-fb8f-4264-cfdf-bc1fe9db3f56"
      },
      "source": [
        "plt.figure(figsize=(7, 5))\n",
        "plt.plot(list(range(best_acc_epoc)), train_losses[0:best_acc_epoc], c='r', label='train loss')\n",
        "plt.plot(list(range(best_acc_epoc)), test_losses[0:best_acc_epoc], c='b', label='test loss')\n",
        "plt.title('Loss')\n",
        "plt.legend()"
      ],
      "execution_count": 12,
      "outputs": [
        {
          "output_type": "execute_result",
          "data": {
            "text/plain": [
              "<matplotlib.legend.Legend at 0x7f89716061d0>"
            ]
          },
          "metadata": {
            "tags": []
          },
          "execution_count": 12
        },
        {
          "output_type": "display_data",
          "data": {
            "image/png": "[encoded data removed]",
            "text/plain": [
              "<Figure size 504x360 with 1 Axes>"
            ]
          },
          "metadata": {
            "tags": [],
            "needs_background": "light"
          }
        }
      ]
    },
    {
      "cell_type": "markdown",
      "metadata": {
        "id": "jBE7mFjGc3Am"
      },
      "source": [
        "### Plot the training and testing accuracies over epochs"
      ]
    },
    {
      "cell_type": "code",
      "metadata": {
        "colab": {
          "base_uri": "https://localhost:8080/",
          "height": 354
        },
        "id": "LYgPtrIFc59p",
        "outputId": "deebdec3-56c1-432e-a87d-7d4371c4e8b7"
      },
      "source": [
        "plt.figure(figsize=(7, 5))\n",
        "plt.plot(list(range(best_acc_epoc)), train_accs[0:best_acc_epoc], c='r', label='train accuracy')\n",
        "plt.plot(list(range(best_acc_epoc)), test_accs[0:best_acc_epoc], c='b', label='test accuracy')\n",
        "plt.title('Accuracy')\n",
        "plt.legend()"
      ],
      "execution_count": 13,
      "outputs": [
        {
          "output_type": "execute_result",
          "data": {
            "text/plain": [
              "<matplotlib.legend.Legend at 0x7f89715b08d0>"
            ]
          },
          "metadata": {
            "tags": []
          },
          "execution_count": 13
        },
        {
          "output_type": "display_data",
          "data": {
            "image/png": "[encoded data removed]",
            "text/plain": [
              "<Figure size 504x360 with 1 Axes>"
            ]
          },
          "metadata": {
            "tags": [],
            "needs_background": "light"
          }
        }
      ]
    },
    {
      "cell_type": "markdown",
      "metadata": {
        "id": "sVfM5F7uc8gw"
      },
      "source": [
        "### Print the final training and testing losses at convergence"
      ]
    },
    {
      "cell_type": "code",
      "metadata": {
        "colab": {
          "base_uri": "https://localhost:8080/",
          "height": 109
        },
        "id": "f91em-EDdAnK",
        "outputId": "d290c9c3-344a-4062-a864-45a9ce6f528f"
      },
      "source": [
        "pd.DataFrame([[round(train_losses[best_acc_epoc], 5)],\n",
        "              [round(test_losses[best_acc_epoc], 5)]], \n",
        "             index=['training', 'testing'], columns=['loss'])"
      ],
      "execution_count": 28,
      "outputs": [
        {
          "output_type": "execute_result",
          "data": {
            "text/html": [
              "<div>\n",
              "<style scoped>\n",
              "    .dataframe tbody tr th:only-of-type {\n",
              "        vertical-align: middle;\n",
              "    }\n",
              "\n",
              "    .dataframe tbody tr th {\n",
              "        vertical-align: top;\n",
              "    }\n",
              "\n",
              "    .dataframe thead th {\n",
              "        text-align: right;\n",
              "    }\n",
              "</style>\n",
              "<table border=\"1\" class=\"dataframe\">\n",
              "  <thead>\n",
              "    <tr style=\"text-align: right;\">\n",
              "      <th></th>\n",
              "      <th>loss</th>\n",
              "    </tr>\n",
              "  </thead>\n",
              "  <tbody>\n",
              "    <tr>\n",
              "      <th>training</th>\n",
              "      <td>0.00001</td>\n",
              "    </tr>\n",
              "    <tr>\n",
              "      <th>testing</th>\n",
              "      <td>0.00071</td>\n",
              "    </tr>\n",
              "  </tbody>\n",
              "</table>\n",
              "</div>"
            ],
            "text/plain": [
              "             loss\n",
              "training  0.00001\n",
              "testing   0.00071"
            ]
          },
          "metadata": {
            "tags": []
          },
          "execution_count": 28
        }
      ]
    },
    {
      "cell_type": "markdown",
      "metadata": {
        "id": "J61InDaLdDIE"
      },
      "source": [
        "### Print the final training and testing accuracies at convergence"
      ]
    },
    {
      "cell_type": "code",
      "metadata": {
        "colab": {
          "base_uri": "https://localhost:8080/",
          "height": 109
        },
        "id": "inrX_OrpdAtz",
        "outputId": "779e3d36-59fc-4790-ab57-d801ecb8c7f7"
      },
      "source": [
        "pd.DataFrame([[round(train_accs[best_acc_epoc].item(), 5)],\n",
        "              [round(test_accs[best_acc_epoc].item(), 5)]], \n",
        "             index=['training', 'testing'], columns=['accracy'])"
      ],
      "execution_count": 29,
      "outputs": [
        {
          "output_type": "execute_result",
          "data": {
            "text/html": [
              "<div>\n",
              "<style scoped>\n",
              "    .dataframe tbody tr th:only-of-type {\n",
              "        vertical-align: middle;\n",
              "    }\n",
              "\n",
              "    .dataframe tbody tr th {\n",
              "        vertical-align: top;\n",
              "    }\n",
              "\n",
              "    .dataframe thead th {\n",
              "        text-align: right;\n",
              "    }\n",
              "</style>\n",
              "<table border=\"1\" class=\"dataframe\">\n",
              "  <thead>\n",
              "    <tr style=\"text-align: right;\">\n",
              "      <th></th>\n",
              "      <th>accracy</th>\n",
              "    </tr>\n",
              "  </thead>\n",
              "  <tbody>\n",
              "    <tr>\n",
              "      <th>training</th>\n",
              "      <td>0.99930</td>\n",
              "    </tr>\n",
              "    <tr>\n",
              "      <th>testing</th>\n",
              "      <td>0.98465</td>\n",
              "    </tr>\n",
              "  </tbody>\n",
              "</table>\n",
              "</div>"
            ],
            "text/plain": [
              "          accracy\n",
              "training  0.99930\n",
              "testing   0.98465"
            ]
          },
          "metadata": {
            "tags": []
          },
          "execution_count": 29
        }
      ]
    },
    {
      "cell_type": "markdown",
      "metadata": {
        "id": "0XjmlGyHdLlU"
      },
      "source": [
        "### Print the testing accuracies within the last 10 epochs"
      ]
    },
    {
      "cell_type": "code",
      "metadata": {
        "colab": {
          "base_uri": "https://localhost:8080/"
        },
        "id": "ieKb58LwdMto",
        "outputId": "8dd10fe3-b721-4051-eae6-c60b2112e80f"
      },
      "source": [
        "for i in range(best_acc_epoc - 10, best_acc_epoc):\n",
        "  print('[epoch = {}] {:.5f}'.format(i+2, test_accs[i+1]))"
      ],
      "execution_count": 45,
      "outputs": [
        {
          "output_type": "stream",
          "text": [
            "[epoch = 2] 0.98050\n",
            "[epoch = 3] 0.98155\n",
            "[epoch = 4] 0.98000\n",
            "[epoch = 5] 0.98420\n",
            "[epoch = 6] 0.98187\n",
            "[epoch = 7] 0.98323\n",
            "[epoch = 8] 0.98480\n",
            "[epoch = 9] 0.98450\n",
            "[epoch = 10] 0.98520\n",
            "[epoch = 11] 0.98565\n"
          ],
          "name": "stdout"
        }
      ]
    },
    {
      "cell_type": "markdown",
      "metadata": {
        "id": "FeWUQJcLjzv0"
      },
      "source": [
        "------------------------------------------------------------------"
      ]
    },
    {
      "cell_type": "code",
      "metadata": {
        "id": "rYeWYDtDj18-"
      },
      "source": [
        "class MyModel(nn.Module):\n",
        "    def __init__(self):\n",
        "        super(MyModel, self).__init__()\n",
        "        self.layer = nn.Sequential(\n",
        "            nn.Conv2d(1, 16, 3, padding=1),\n",
        "            nn.BatchNorm2d(16),\n",
        "            nn.ReLU(),\n",
        "            nn.Conv2d(16, 32, 3,padding=1),\n",
        "            nn.BatchNorm2d(32),\n",
        "            nn.ReLU(),\n",
        "            nn.MaxPool2d(2, 2),           \n",
        "            nn.Conv2d(32, 64, 3,padding=1),\n",
        "            nn.BatchNorm2d(64),\n",
        "            nn.ReLU(),\n",
        "            nn.MaxPool2d(2, 2)        \n",
        "        )\n",
        "        self.fc_layer = nn.Sequential(\n",
        "            nn.Linear(64*7*7, 128),\n",
        "            nn.BatchNorm1d(128),\n",
        "            nn.ReLU(),\n",
        "            nn.Linear(128, 64),\n",
        "            nn.BatchNorm1d(64),\n",
        "            nn.ReLU(),            \n",
        "            nn.Linear(64, 10),\n",
        "        )   \n",
        "\n",
        "    def forward(self,x):\n",
        "        out = self.layer(x)\n",
        "        out = out.view(out.size(0), -1)\n",
        "        out = self.fc_layer(out)\n",
        "        return out"
      ],
      "execution_count": 33,
      "outputs": []
    },
    {
      "cell_type": "code",
      "metadata": {
        "id": "B4dIQf71k8dT"
      },
      "source": [
        "def train():\n",
        "    model.train()\n",
        "    train_loss = 0\n",
        "    train_acc = 0\n",
        "\n",
        "    for data, label in mini_batch_train:\n",
        "        data, label = Variable(data).cuda(), Variable(label).cuda()\n",
        "        output = model.forward(data)\n",
        "        loss = criterion(output, label)\n",
        "\n",
        "        optimizer.zero_grad()\n",
        "        loss.backward()\n",
        "        optimizer.step()\n",
        "\n",
        "        train_loss += loss.item()\n",
        "        pred = output.data.max(1, keepdim=True)[1]\n",
        "        train_acc += pred.eq(label.data.view_as(pred)).sum()\n",
        "\n",
        "    \n",
        "    train_loss /= len(mini_batch_train.dataset)\n",
        "    lr_sechduler.step(train_loss)\n",
        "    return train_loss, train_acc\n",
        "\n",
        "def test():\n",
        "    model.eval()\n",
        "    test_loss = 0\n",
        "    test_acc = 0\n",
        "    \n",
        "    for data, target in mini_batch_test:\n",
        "        data, target = Variable(data).cuda(), Variable(target).cuda()\n",
        "        output = model.forward(data)\n",
        "\n",
        "        test_loss += criterion(output, target).item()\n",
        "        pred = output.data.max(1, keepdim=True)[1]\n",
        "        test_acc += pred.eq(target.data.view_as(pred)).sum()\n",
        "\n",
        "    test_loss /= len(mini_batch_test.dataset)\n",
        "\n",
        "    return test_loss, test_acc\n",
        "\n",
        "def modeling(epoch):\n",
        "  train_losses = []\n",
        "  train_accs = []\n",
        "\n",
        "  test_losses = []\n",
        "  test_accs = []\n",
        "\n",
        "  for epo in range(1, epoch+1):\n",
        "    train_loss, train_acc = train()\n",
        "    test_loss, test_acc = test()\n",
        "\n",
        "    print('Epoch: {} / Train -> Loss : {:.4f}, Accuracy : {:.4f}%)'.format(epo, train_loss, 100. * train_acc / len(mini_batch_train.dataset)))\n",
        "    print('            Test  -> Loss : {:.4f}, Accuracy : {:.4f}%)'.format(test_loss, 100. * test_acc / len(mini_batch_test.dataset)))\n",
        "  \n",
        "    train_losses.append(train_loss)\n",
        "    train_accs.append(train_acc / len(mini_batch_train.dataset))\n",
        "    test_losses.append(test_loss)\n",
        "    test_accs.append(test_acc / len(mini_batch_test.dataset))\n",
        "\n",
        "  return train_losses, train_accs, test_losses, test_accs"
      ],
      "execution_count": 36,
      "outputs": []
    },
    {
      "cell_type": "code",
      "metadata": {
        "id": "xiR39gxrlEUa"
      },
      "source": [
        "batch_size = [128]\n",
        "lr = [0.001]\n",
        "gamma = [0.999]\n",
        "\n",
        "comb = list(product(batch_size, lr, gamma))\n",
        "best_acc = {}\n",
        "history = []\n",
        "epoc_history = []\n",
        "\n",
        "for parameter in comb:\n",
        "  mini_batch_train = DataLoader(data_train, batch_size=parameter[0], shuffle=True)\n",
        "  mini_batch_test = DataLoader(data_test, batch_size=parameter[0], shuffle=True)\n",
        "\n",
        "  model = MyModel().cuda()\n",
        "  criterion = nn.CrossEntropyLoss()\n",
        "  optimizer = torch.optim.Adam(model.parameters(), lr=parameter[1])\n",
        "  lr_sechduler = torch.optim.lr_scheduler.ReduceLROnPlateau(optimizer,threshold=0.1, patience=1, mode='min')    \n",
        "\n",
        "  train_losses, train_accs, test_losses, test_accs = modeling(50)\n",
        "\n",
        "  best_acc['batch_size',parameter[0], \"learning_rate\",parameter[1], \n",
        "            \"gamme\",parameter[2]]=[test_accs.index(max(test_accs)), max(test_accs)]\n",
        "\n",
        "  history.append([train_losses, train_accs, test_losses, test_accs])\n",
        "  epoc_history.append(test_accs.index(max(test_accs)))\n",
        "  best_acc_epoc = test_accs.index(max(test_accs))+1\n",
        "\n",
        "  print('batch_size : ',parameter[0], \"learning_rate : \",parameter[1], \"gamme : \",parameter[2])\n",
        "  print(\"epoch : \", best_acc_epoc,  \"max_test_acc : \", max(test_accs))"
      ],
      "execution_count": null,
      "outputs": []
    },
    {
      "cell_type": "code",
      "metadata": {
        "colab": {
          "base_uri": "https://localhost:8080/",
          "height": 354
        },
        "id": "e6bjEKz6ow-q",
        "outputId": "488d31ac-b697-41a0-b025-edbc9b88376d"
      },
      "source": [
        "plt.figure(figsize=(7, 5))\n",
        "plt.plot(list(range(best_acc_epoc)), train_losses[0:best_acc_epoc], c='r', label='train loss')\n",
        "plt.plot(list(range(best_acc_epoc)), test_losses[0:best_acc_epoc], c='b', label='test loss')\n",
        "plt.title('Loss')\n",
        "plt.legend()"
      ],
      "execution_count": 38,
      "outputs": [
        {
          "output_type": "execute_result",
          "data": {
            "text/plain": [
              "<matplotlib.legend.Legend at 0x7f89113c0c18>"
            ]
          },
          "metadata": {
            "tags": []
          },
          "execution_count": 38
        },
        {
          "output_type": "display_data",
          "data": {
            "image/png": "[encoded data removed]",
            "text/plain": [
              "<Figure size 504x360 with 1 Axes>"
            ]
          },
          "metadata": {
            "tags": [],
            "needs_background": "light"
          }
        }
      ]
    },
    {
      "cell_type": "code",
      "metadata": {
        "colab": {
          "base_uri": "https://localhost:8080/",
          "height": 354
        },
        "id": "d0jL9Eizo1yz",
        "outputId": "1332ed31-6756-4eea-ecd2-2e8d39d7613c"
      },
      "source": [
        "plt.figure(figsize=(7, 5))\n",
        "plt.plot(list(range(best_acc_epoc)), train_accs[0:best_acc_epoc], c='r', label='train accuracy')\n",
        "plt.plot(list(range(best_acc_epoc)), test_accs[0:best_acc_epoc], c='b', label='test accuracy')\n",
        "plt.title('Accuracy')\n",
        "plt.legend()"
      ],
      "execution_count": 39,
      "outputs": [
        {
          "output_type": "execute_result",
          "data": {
            "text/plain": [
              "<matplotlib.legend.Legend at 0x7f89115bfcc0>"
            ]
          },
          "metadata": {
            "tags": []
          },
          "execution_count": 39
        },
        {
          "output_type": "display_data",
          "data": {
            "image/png": "[encoded data removed]",
            "text/plain": [
              "<Figure size 504x360 with 1 Axes>"
            ]
          },
          "metadata": {
            "tags": [],
            "needs_background": "light"
          }
        }
      ]
    },
    {
      "cell_type": "code",
      "metadata": {
        "colab": {
          "base_uri": "https://localhost:8080/",
          "height": 109
        },
        "id": "-054Ls2Bo5Pf",
        "outputId": "9bfa3f0a-0a62-4036-9010-850158e1a4d2"
      },
      "source": [
        "pd.DataFrame([[round(train_losses[best_acc_epoc], 5)],\n",
        "              [round(test_losses[best_acc_epoc], 5)]], \n",
        "             index=['training', 'testing'], columns=['loss'])"
      ],
      "execution_count": 40,
      "outputs": [
        {
          "output_type": "execute_result",
          "data": {
            "text/html": [
              "<div>\n",
              "<style scoped>\n",
              "    .dataframe tbody tr th:only-of-type {\n",
              "        vertical-align: middle;\n",
              "    }\n",
              "\n",
              "    .dataframe tbody tr th {\n",
              "        vertical-align: top;\n",
              "    }\n",
              "\n",
              "    .dataframe thead th {\n",
              "        text-align: right;\n",
              "    }\n",
              "</style>\n",
              "<table border=\"1\" class=\"dataframe\">\n",
              "  <thead>\n",
              "    <tr style=\"text-align: right;\">\n",
              "      <th></th>\n",
              "      <th>loss</th>\n",
              "    </tr>\n",
              "  </thead>\n",
              "  <tbody>\n",
              "    <tr>\n",
              "      <th>training</th>\n",
              "      <td>0.00001</td>\n",
              "    </tr>\n",
              "    <tr>\n",
              "      <th>testing</th>\n",
              "      <td>0.00037</td>\n",
              "    </tr>\n",
              "  </tbody>\n",
              "</table>\n",
              "</div>"
            ],
            "text/plain": [
              "             loss\n",
              "training  0.00001\n",
              "testing   0.00037"
            ]
          },
          "metadata": {
            "tags": []
          },
          "execution_count": 40
        }
      ]
    },
    {
      "cell_type": "code",
      "metadata": {
        "colab": {
          "base_uri": "https://localhost:8080/",
          "height": 109
        },
        "id": "rSsc_Vlio5JA",
        "outputId": "5ea80ce5-850b-4072-8bb1-84498719d365"
      },
      "source": [
        "pd.DataFrame([[round(train_accs[best_acc_epoc].item(), 5)],\n",
        "              [round(test_accs[best_acc_epoc].item(), 5)]], \n",
        "             index=['training', 'testing'], columns=['accracy'])"
      ],
      "execution_count": 41,
      "outputs": [
        {
          "output_type": "execute_result",
          "data": {
            "text/html": [
              "<div>\n",
              "<style scoped>\n",
              "    .dataframe tbody tr th:only-of-type {\n",
              "        vertical-align: middle;\n",
              "    }\n",
              "\n",
              "    .dataframe tbody tr th {\n",
              "        vertical-align: top;\n",
              "    }\n",
              "\n",
              "    .dataframe thead th {\n",
              "        text-align: right;\n",
              "    }\n",
              "</style>\n",
              "<table border=\"1\" class=\"dataframe\">\n",
              "  <thead>\n",
              "    <tr style=\"text-align: right;\">\n",
              "      <th></th>\n",
              "      <th>accracy</th>\n",
              "    </tr>\n",
              "  </thead>\n",
              "  <tbody>\n",
              "    <tr>\n",
              "      <th>training</th>\n",
              "      <td>1.00000</td>\n",
              "    </tr>\n",
              "    <tr>\n",
              "      <th>testing</th>\n",
              "      <td>0.98565</td>\n",
              "    </tr>\n",
              "  </tbody>\n",
              "</table>\n",
              "</div>"
            ],
            "text/plain": [
              "          accracy\n",
              "training  1.00000\n",
              "testing   0.98565"
            ]
          },
          "metadata": {
            "tags": []
          },
          "execution_count": 41
        }
      ]
    },
    {
      "cell_type": "code",
      "metadata": {
        "colab": {
          "base_uri": "https://localhost:8080/"
        },
        "id": "gns1uNWwpDLF",
        "outputId": "0f3e4d70-5c6f-4f8e-c3ee-21271c6b1f93"
      },
      "source": [
        "for i in range(best_acc_epoc - 10, best_acc_epoc):\n",
        "  print('[epoch = {}] {:.5f}'.format(i+2, test_accs[i+1]))"
      ],
      "execution_count": 44,
      "outputs": [
        {
          "output_type": "stream",
          "text": [
            "[epoch = 2] 0.98050\n",
            "[epoch = 3] 0.98155\n",
            "[epoch = 4] 0.98000\n",
            "[epoch = 5] 0.98420\n",
            "[epoch = 6] 0.98187\n",
            "[epoch = 7] 0.98323\n",
            "[epoch = 8] 0.98480\n",
            "[epoch = 9] 0.98450\n",
            "[epoch = 10] 0.98520\n",
            "[epoch = 11] 0.98565\n"
          ],
          "name": "stdout"
        }
      ]
    }
  ]
}