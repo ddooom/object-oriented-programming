{
  "nbformat": 4,
  "nbformat_minor": 0,
  "metadata": {
    "colab": {
      "name": "assignment-08",
      "provenance": [],
      "collapsed_sections": [],
      "toc_visible": true,
      "include_colab_link": true
    },
    "kernelspec": {
      "display_name": "Python 3",
      "name": "python3"
    }
  },
  "cells": [
    {
      "cell_type": "markdown",
      "metadata": {
        "id": "view-in-github",
        "colab_type": "text"
      },
      "source": [
        "<a href=\"https://colab.research.google.com/github/ddooom/object-oriented-programming/blob/master/assignment_08.ipynb\" target=\"_parent\"><img src=\"https://colab.research.google.com/assets/colab-badge.svg\" alt=\"Open In Colab\"/></a>"
      ]
    },
    {
      "cell_type": "code",
      "metadata": {
        "id": "AlD8CZytgNao"
      },
      "source": [
        "import numpy as np\n",
        "import matplotlib.pyplot as plt"
      ],
      "execution_count": 3,
      "outputs": []
    },
    {
      "cell_type": "markdown",
      "metadata": {
        "id": "kqYhrvjXf5Mz"
      },
      "source": [
        "###Load the Data"
      ]
    },
    {
      "cell_type": "code",
      "metadata": {
        "id": "QpnG0XwXf39_"
      },
      "source": [
        "data = np.loadtxt('drive/My Drive/Machine Learning Project/assignment 08/data-pca.txt', delimiter=',')\n",
        "\n",
        "x = data[:,0]\n",
        "y = data[:,1]"
      ],
      "execution_count": 4,
      "outputs": []
    },
    {
      "cell_type": "code",
      "metadata": {
        "id": "NkyOLPflgQX5",
        "outputId": "c90e273f-f0ae-4de8-8235-b5f47d9553f4",
        "colab": {
          "base_uri": "https://localhost:8080/"
        }
      },
      "source": [
        ""
      ],
      "execution_count": null,
      "outputs": [
        {
          "output_type": "execute_result",
          "data": {
            "text/plain": [
              "array([3.38156, 4.52788, 2.65568, 2.76523, 2.84656, 3.89067, 3.47581,\n",
              "       5.9113 , 3.92889, 4.56184, 4.57407, 4.37173, 4.19169, 5.24409,\n",
              "       2.83584, 5.63527, 4.68633, 2.85051, 5.11016, 5.18256, 5.70733,\n",
              "       3.57968, 5.63938, 4.26347, 2.53652, 3.22383, 4.92949, 5.79296,\n",
              "       2.81685, 3.88882, 3.34323, 5.87973, 3.10392, 5.33151, 3.37543,\n",
              "       4.77668, 2.67575, 5.50028, 1.7971 , 4.32251, 4.421  , 3.1793 ,\n",
              "       3.03354, 4.60935, 2.96379, 3.97176, 1.18023, 1.91895, 3.95525,\n",
              "       5.11795])"
            ]
          },
          "metadata": {
            "tags": []
          },
          "execution_count": 5
        }
      ]
    }
  ]
}